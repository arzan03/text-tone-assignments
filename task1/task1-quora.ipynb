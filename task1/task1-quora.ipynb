{
 "cells": [
  {
   "cell_type": "code",
   "execution_count": 1,
   "metadata": {},
   "outputs": [
    {
     "name": "stdout",
     "output_type": "stream",
     "text": [
      "<class 'pandas.core.frame.DataFrame'>\n",
      "Index: 149263 entries, 5 to 404286\n",
      "Data columns (total 6 columns):\n",
      " #   Column        Non-Null Count   Dtype \n",
      "---  ------        --------------   ----- \n",
      " 0   id            149263 non-null  int64 \n",
      " 1   qid1          149263 non-null  int64 \n",
      " 2   qid2          149263 non-null  int64 \n",
      " 3   question1     149263 non-null  object\n",
      " 4   question2     149263 non-null  object\n",
      " 5   is_duplicate  149263 non-null  int64 \n",
      "dtypes: int64(4), object(2)\n",
      "memory usage: 8.0+ MB\n"
     ]
    }
   ],
   "source": [
    "import pandas as pd\n",
    "df=pd.read_csv('quora_duplicate_questions.tsv',sep='\\t')\n",
    "df.dropna(inplace=True)\n",
    "df=df.query('is_duplicate==1')\n",
    "df.info()\n",
    "df=df.iloc[50000:100000,:]"
   ]
  },
  {
   "cell_type": "code",
   "execution_count": 2,
   "metadata": {},
   "outputs": [],
   "source": [
    "df.drop(columns=['id','qid1','qid2',],inplace=True)"
   ]
  },
  {
   "cell_type": "code",
   "execution_count": 3,
   "metadata": {},
   "outputs": [
    {
     "name": "stderr",
     "output_type": "stream",
     "text": [
      "/opt/homebrew/lib/python3.11/site-packages/tqdm/auto.py:21: TqdmWarning: IProgress not found. Please update jupyter and ipywidgets. See https://ipywidgets.readthedocs.io/en/stable/user_install.html\n",
      "  from .autonotebook import tqdm as notebook_tqdm\n"
     ]
    }
   ],
   "source": [
    "from transformers import pipeline\n",
    "import tensorflow as tf\n",
    "model = pipeline('text-classification', model='SamLowe/roberta-base-go_emotions', top_k=None)\n",
    "positive_grad=['amusement','excitement','pride','optimism','gratitude','joy','admiration','love','approval','caring','desire','relief']\n",
    "neutral_grad=['confusion','curiosity','realization','surprise','neutral']\n",
    "negative_grad=['anger','disgust','grief','fear','sadness','nervousness','annoyance','disappointment','embarrassment','remorse','disapproval']\n",
    "total_grad=positive_grad+neutral_grad+negative_grad"
   ]
  },
  {
   "cell_type": "code",
   "execution_count": 4,
   "metadata": {},
   "outputs": [],
   "source": [
    "def predict_emotion(text):\n",
    "    model_output = model([text])\n",
    "    predictions = model_output[0]\n",
    "    \n",
    "    max_score_index = max(range(len(predictions)), key=lambda i: predictions[i][\"score\"])\n",
    "    return predictions[max_score_index][\"label\"]"
   ]
  },
  {
   "cell_type": "code",
   "execution_count": 5,
   "metadata": {},
   "outputs": [
    {
     "name": "stderr",
     "output_type": "stream",
     "text": [
      "Processing rows: 100%|██████████| 50000/50000 [1:02:16<00:00, 13.38it/s]\n"
     ]
    }
   ],
   "source": [
    "from tqdm import tqdm\n",
    "\n",
    "for index, row in tqdm(df.iterrows(), total=len(df), desc='Processing rows'):\n",
    "    input_text = row['question1']\n",
    "    target_text = row['question2']\n",
    "\n",
    "    input_emotion = predict_emotion(input_text)\n",
    "    target_emotion = predict_emotion(target_text)\n",
    "\n",
    "    if (input_emotion == target_emotion or input_emotion == 'neutral' or target_emotion == 'neutral'):\n",
    "        df.drop(index, inplace=True)\n",
    "    else:\n",
    "        if total_grad.index(input_emotion) > total_grad.index(target_emotion):\n",
    "            df.at[index, 'question1'], df.at[index, 'question2'] = df.at[index, 'question2'], df.at[index, 'question1']\n",
    "            input_emotion, target_emotion = target_emotion, input_emotion\n",
    "        emotion_transition = f\"{input_emotion} to {target_emotion}: \"\n",
    "        modified_input_text = emotion_transition + input_text\n",
    "        df.at[index, 'question1'] = modified_input_text"
   ]
  },
  {
   "cell_type": "code",
   "execution_count": 8,
   "metadata": {},
   "outputs": [],
   "source": [
    "# df.drop(columns=['is_duplicate'],inplace=True)\n",
    "df.to_csv('quora_new_2.csv',index=False)"
   ]
  },
  {
   "cell_type": "code",
   "execution_count": null,
   "metadata": {},
   "outputs": [],
   "source": [
    "df.info()"
   ]
  },
  {
   "cell_type": "code",
   "execution_count": null,
   "metadata": {},
   "outputs": [],
   "source": []
  }
 ],
 "metadata": {
  "kernelspec": {
   "display_name": "Python 3",
   "language": "python",
   "name": "python3"
  },
  "language_info": {
   "codemirror_mode": {
    "name": "ipython",
    "version": 3
   },
   "file_extension": ".py",
   "mimetype": "text/x-python",
   "name": "python",
   "nbconvert_exporter": "python",
   "pygments_lexer": "ipython3",
   "version": "3.11.5"
  }
 },
 "nbformat": 4,
 "nbformat_minor": 2
}
