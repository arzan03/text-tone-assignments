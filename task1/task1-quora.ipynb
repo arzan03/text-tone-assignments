{
 "cells": [
  {
   "cell_type": "code",
   "execution_count": 1,
   "metadata": {},
   "outputs": [
    {
     "name": "stdout",
     "output_type": "stream",
     "text": [
      "<class 'pandas.core.frame.DataFrame'>\n",
      "Index: 50000 entries, 0 to 49999\n",
      "Data columns (total 6 columns):\n",
      " #   Column        Non-Null Count  Dtype \n",
      "---  ------        --------------  ----- \n",
      " 0   id            50000 non-null  int64 \n",
      " 1   qid1          50000 non-null  int64 \n",
      " 2   qid2          50000 non-null  int64 \n",
      " 3   question1     50000 non-null  object\n",
      " 4   question2     50000 non-null  object\n",
      " 5   is_duplicate  50000 non-null  int64 \n",
      "dtypes: int64(4), object(2)\n",
      "memory usage: 2.7+ MB\n"
     ]
    }
   ],
   "source": [
    "import pandas as pd\n",
    "df=pd.read_csv('quora_duplicate_questions.tsv',sep='\\t')\n",
    "df.dropna(inplace=True)\n",
    "df = df.iloc[0:50000,:]\n",
    "df.info()"
   ]
  },
  {
   "cell_type": "code",
   "execution_count": 2,
   "metadata": {},
   "outputs": [],
   "source": [
    "df.drop(columns=['id','qid1','qid2','is_duplicate'],inplace=True)"
   ]
  },
  {
   "cell_type": "code",
   "execution_count": 3,
   "metadata": {},
   "outputs": [],
   "source": [
    "from transformers import pipeline\n",
    "import tensorflow as tf\n",
    "model = pipeline('text-classification', model='bhadresh-savani/bert-base-go-emotion')\n",
    "positive_grad=['amusement','excitement','pride','optimism','gratitude','joy','admiration','love','approval','caring','desire','relief']\n",
    "neutral_grad=['confusion','curiosity','realization','surprise','neutral']\n",
    "negative_grad=['anger','disgust','grief','fear','sadness','nervousness','annoyance','disappointment','embarrassment','remorse','disapproval']\n",
    "total_grad=positive_grad+neutral_grad+negative_grad"
   ]
  },
  {
   "cell_type": "code",
   "execution_count": 4,
   "metadata": {},
   "outputs": [],
   "source": [
    "\n",
    "def predict_emotion(text):\n",
    "    return model(text)[0]['label']\n"
   ]
  },
  {
   "cell_type": "code",
   "execution_count": 5,
   "metadata": {},
   "outputs": [
    {
     "name": "stderr",
     "output_type": "stream",
     "text": [
      "Processing rows: 100%|██████████| 50000/50000 [1:16:10<00:00, 10.94it/s]\n"
     ]
    }
   ],
   "source": [
    "from tqdm import tqdm\n",
    "for index, row in tqdm(df.iterrows(), total=len(df), desc='Processing rows'):\n",
    "    input_text = row['question1']\n",
    "    target_text = row['question2']\n",
    "\n",
    "    input_emotion = predict_emotion(input_text)\n",
    "    target_emotion = predict_emotion(target_text)\n",
    "\n",
    "    if(input_emotion==target_emotion or input_emotion=='neutral' or target_emotion=='neutral'):\n",
    "        df.drop(index, inplace=True)\n",
    "\n",
    "    else:\n",
    "        if(total_grad.index(input_emotion)>total_grad.index(target_emotion)):\n",
    "            df.at[index,'question1'],df.at[index,'question2']=df.at[index,'question2'],df.at[index,'question1']\n",
    "        emotion_transition = f\"{input_emotion} to {target_emotion}: \"\n",
    "        modified_input_text = emotion_transition + input_text\n",
    "        df.at[index, 'question1'] = modified_input_text"
   ]
  },
  {
   "cell_type": "code",
   "execution_count": 9,
   "metadata": {},
   "outputs": [],
   "source": [
    "df.to_csv('quora1',index=False)"
   ]
  },
  {
   "cell_type": "code",
   "execution_count": null,
   "metadata": {},
   "outputs": [],
   "source": []
  }
 ],
 "metadata": {
  "kernelspec": {
   "display_name": "Python 3",
   "language": "python",
   "name": "python3"
  },
  "language_info": {
   "codemirror_mode": {
    "name": "ipython",
    "version": 3
   },
   "file_extension": ".py",
   "mimetype": "text/x-python",
   "name": "python",
   "nbconvert_exporter": "python",
   "pygments_lexer": "ipython3",
   "version": "3.11.5"
  }
 },
 "nbformat": 4,
 "nbformat_minor": 2
}
