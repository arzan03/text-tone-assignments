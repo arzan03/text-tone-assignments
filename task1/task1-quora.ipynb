{
 "cells": [
  {
   "cell_type": "code",
   "execution_count": 1,
   "metadata": {},
   "outputs": [
    {
     "name": "stdout",
     "output_type": "stream",
     "text": [
      "<class 'pandas.core.frame.DataFrame'>\n",
      "Index: 104287 entries, 300002 to 404289\n",
      "Data columns (total 6 columns):\n",
      " #   Column        Non-Null Count   Dtype \n",
      "---  ------        --------------   ----- \n",
      " 0   id            104287 non-null  int64 \n",
      " 1   qid1          104287 non-null  int64 \n",
      " 2   qid2          104287 non-null  int64 \n",
      " 3   question1     104287 non-null  object\n",
      " 4   question2     104287 non-null  object\n",
      " 5   is_duplicate  104287 non-null  int64 \n",
      "dtypes: int64(4), object(2)\n",
      "memory usage: 5.6+ MB\n"
     ]
    }
   ],
   "source": [
    "import pandas as pd\n",
    "df=pd.read_csv('quora_duplicate_questions.tsv',sep='\\t')\n",
    "df.dropna(inplace=True)\n",
    "df=df.iloc[300000:,:]\n",
    "df.info()"
   ]
  },
  {
   "cell_type": "code",
   "execution_count": 2,
   "metadata": {},
   "outputs": [],
   "source": [
    "df.drop(columns=['id','qid1','qid2',],inplace=True)"
   ]
  },
  {
   "cell_type": "code",
   "execution_count": 3,
   "metadata": {},
   "outputs": [
    {
     "data": {
      "text/plain": [
       "0"
      ]
     },
     "execution_count": 3,
     "metadata": {},
     "output_type": "execute_result"
    }
   ],
   "source": [
    "df=df.query('is_duplicate==0')\n",
    "df['is_duplicate'].sum()"
   ]
  },
  {
   "cell_type": "code",
   "execution_count": 4,
   "metadata": {},
   "outputs": [
    {
     "name": "stderr",
     "output_type": "stream",
     "text": [
      "/opt/homebrew/lib/python3.11/site-packages/tqdm/auto.py:21: TqdmWarning: IProgress not found. Please update jupyter and ipywidgets. See https://ipywidgets.readthedocs.io/en/stable/user_install.html\n",
      "  from .autonotebook import tqdm as notebook_tqdm\n"
     ]
    }
   ],
   "source": [
    "from transformers import pipeline\n",
    "import tensorflow as tf\n",
    "model = pipeline('text-classification', model='bhadresh-savani/bert-base-go-emotion')\n",
    "positive_grad=['amusement','excitement','pride','optimism','gratitude','joy','admiration','love','approval','caring','desire','relief']\n",
    "neutral_grad=['confusion','curiosity','realization','surprise','neutral']\n",
    "negative_grad=['anger','disgust','grief','fear','sadness','nervousness','annoyance','disappointment','embarrassment','remorse','disapproval']\n",
    "total_grad=positive_grad+neutral_grad+negative_grad"
   ]
  },
  {
   "cell_type": "code",
   "execution_count": 5,
   "metadata": {},
   "outputs": [],
   "source": [
    "\n",
    "def predict_emotion(text):\n",
    "    if(model(text)[0]['score']<0.5):\n",
    "        return('neutral')\n",
    "    else:\n",
    "        return model(text)[0]['label']\n"
   ]
  },
  {
   "cell_type": "code",
   "execution_count": 6,
   "metadata": {},
   "outputs": [
    {
     "name": "stderr",
     "output_type": "stream",
     "text": [
      "Processing rows: 100%|██████████| 66498/66498 [2:03:58<00:00,  8.94it/s]  \n"
     ]
    }
   ],
   "source": [
    "from tqdm import tqdm\n",
    "\n",
    "for index, row in tqdm(df.iterrows(), total=len(df), desc='Processing rows'):\n",
    "    input_text = row['question1']\n",
    "    target_text = row['question2']\n",
    "\n",
    "    input_emotion = predict_emotion(input_text)\n",
    "    target_emotion = predict_emotion(target_text)\n",
    "\n",
    "    same_list_check = (\n",
    "        (input_emotion in positive_grad and target_emotion in positive_grad) or\n",
    "        (input_emotion in neutral_grad and target_emotion in neutral_grad) or\n",
    "        (input_emotion in negative_grad and target_emotion in negative_grad)\n",
    "    )\n",
    "\n",
    "    if (input_emotion == target_emotion or input_emotion == 'neutral' or target_emotion == 'neutral' or not same_list_check):\n",
    "        df.drop(index, inplace=True)\n",
    "    else:\n",
    "        if total_grad.index(input_emotion) > total_grad.index(target_emotion):\n",
    "            df.at[index, 'question1'], df.at[index, 'question2'] = df.at[index, 'question2'], df.at[index, 'question1']\n",
    "            input_emotion, target_emotion = target_emotion, input_emotion\n",
    "        emotion_transition = f\"{input_emotion} to {target_emotion}: \"\n",
    "        modified_input_text = emotion_transition + input_text\n",
    "        df.at[index, 'question1'] = modified_input_text\n"
   ]
  },
  {
   "cell_type": "code",
   "execution_count": 7,
   "metadata": {},
   "outputs": [],
   "source": [
    "df.drop(columns=['is_duplicate'],inplace=True)\n",
    "df.to_csv('quora_new_5.csv',index=False)"
   ]
  },
  {
   "cell_type": "code",
   "execution_count": 8,
   "metadata": {},
   "outputs": [
    {
     "name": "stdout",
     "output_type": "stream",
     "text": [
      "<class 'pandas.core.frame.DataFrame'>\n",
      "Index: 21 entries, 301247 to 389030\n",
      "Data columns (total 2 columns):\n",
      " #   Column     Non-Null Count  Dtype \n",
      "---  ------     --------------  ----- \n",
      " 0   question1  21 non-null     object\n",
      " 1   question2  21 non-null     object\n",
      "dtypes: object(2)\n",
      "memory usage: 504.0+ bytes\n"
     ]
    }
   ],
   "source": [
    "df.info()"
   ]
  },
  {
   "cell_type": "code",
   "execution_count": null,
   "metadata": {},
   "outputs": [],
   "source": []
  }
 ],
 "metadata": {
  "kernelspec": {
   "display_name": "Python 3",
   "language": "python",
   "name": "python3"
  },
  "language_info": {
   "codemirror_mode": {
    "name": "ipython",
    "version": 3
   },
   "file_extension": ".py",
   "mimetype": "text/x-python",
   "name": "python",
   "nbconvert_exporter": "python",
   "pygments_lexer": "ipython3",
   "version": "3.11.5"
  }
 },
 "nbformat": 4,
 "nbformat_minor": 2
}
