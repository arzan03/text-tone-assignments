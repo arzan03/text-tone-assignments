{
 "cells": [
  {
   "cell_type": "code",
   "execution_count": 1,
   "metadata": {},
   "outputs": [
    {
     "name": "stdout",
     "output_type": "stream",
     "text": [
      "<class 'pandas.core.frame.DataFrame'>\n",
      "Index: 50000 entries, 100000 to 150000\n",
      "Data columns (total 6 columns):\n",
      " #   Column        Non-Null Count  Dtype \n",
      "---  ------        --------------  ----- \n",
      " 0   id            50000 non-null  int64 \n",
      " 1   qid1          50000 non-null  int64 \n",
      " 2   qid2          50000 non-null  int64 \n",
      " 3   question1     50000 non-null  object\n",
      " 4   question2     50000 non-null  object\n",
      " 5   is_duplicate  50000 non-null  int64 \n",
      "dtypes: int64(4), object(2)\n",
      "memory usage: 2.7+ MB\n"
     ]
    }
   ],
   "source": [
    "import pandas as pd\n",
    "df=pd.read_csv('quora_duplicate_questions.tsv',sep='\\t')\n",
    "df.dropna(inplace=True)\n",
    "df = df.iloc[100000:150000,:]\n",
    "df.info()"
   ]
  },
  {
   "cell_type": "code",
   "execution_count": 2,
   "metadata": {},
   "outputs": [],
   "source": [
    "df.drop(columns=['id','qid1','qid2','is_duplicate'],inplace=True)"
   ]
  },
  {
   "cell_type": "code",
   "execution_count": 3,
   "metadata": {},
   "outputs": [
    {
     "name": "stderr",
     "output_type": "stream",
     "text": [
      "/opt/homebrew/lib/python3.11/site-packages/tqdm/auto.py:21: TqdmWarning: IProgress not found. Please update jupyter and ipywidgets. See https://ipywidgets.readthedocs.io/en/stable/user_install.html\n",
      "  from .autonotebook import tqdm as notebook_tqdm\n"
     ]
    }
   ],
   "source": [
    "from transformers import pipeline\n",
    "import tensorflow as tf\n",
    "model = pipeline('text-classification', model='bhadresh-savani/bert-base-go-emotion')\n",
    "positive_grad=['amusement','excitement','pride','optimism','gratitude','joy','admiration','love','approval','caring','desire','relief']\n",
    "neutral_grad=['confusion','curiosity','realization','surprise','neutral']\n",
    "negative_grad=['anger','disgust','grief','fear','sadness','nervousness','annoyance','disappointment','embarrassment','remorse','disapproval']\n",
    "total_grad=positive_grad+neutral_grad+negative_grad"
   ]
  },
  {
   "cell_type": "code",
   "execution_count": 4,
   "metadata": {},
   "outputs": [],
   "source": [
    "\n",
    "def predict_emotion(text):\n",
    "    if(model(text)[0]['score']<0.5):\n",
    "        return('neutral')\n",
    "    else:\n",
    "        return model(text)[0]['label']\n"
   ]
  },
  {
   "cell_type": "code",
   "execution_count": 5,
   "metadata": {},
   "outputs": [
    {
     "name": "stderr",
     "output_type": "stream",
     "text": [
      "Processing rows: 100%|██████████| 50000/50000 [1:13:42<00:00, 11.31it/s]\n"
     ]
    }
   ],
   "source": [
    "from tqdm import tqdm\n",
    "for index, row in tqdm(df.iterrows(), total=len(df), desc='Processing rows'):\n",
    "    input_text = row['question1']\n",
    "    target_text = row['question2']\n",
    "\n",
    "    input_emotion = predict_emotion(input_text)\n",
    "    target_emotion = predict_emotion(target_text)\n",
    "\n",
    "    if(input_emotion==target_emotion or input_emotion=='neutral' or target_emotion=='neutral'):\n",
    "        df.drop(index, inplace=True)\n",
    "\n",
    "    else:\n",
    "        if(total_grad.index(input_emotion)>total_grad.index(target_emotion)):\n",
    "            df.at[index,'question1'],df.at[index,'question2']=df.at[index,'question2'],df.at[index,'question1']\n",
    "        emotion_transition = f\"{input_emotion} to {target_emotion}: \"\n",
    "        modified_input_text = emotion_transition + input_text\n",
    "        df.at[index, 'question1'] = modified_input_text"
   ]
  },
  {
   "cell_type": "code",
   "execution_count": 6,
   "metadata": {},
   "outputs": [],
   "source": [
    "df.to_csv('quora3.csv',index=False)"
   ]
  },
  {
   "cell_type": "code",
   "execution_count": 8,
   "metadata": {},
   "outputs": [
    {
     "data": {
      "text/html": [
       "<div>\n",
       "<style scoped>\n",
       "    .dataframe tbody tr th:only-of-type {\n",
       "        vertical-align: middle;\n",
       "    }\n",
       "\n",
       "    .dataframe tbody tr th {\n",
       "        vertical-align: top;\n",
       "    }\n",
       "\n",
       "    .dataframe thead th {\n",
       "        text-align: right;\n",
       "    }\n",
       "</style>\n",
       "<table border=\"1\" class=\"dataframe\">\n",
       "  <thead>\n",
       "    <tr style=\"text-align: right;\">\n",
       "      <th></th>\n",
       "      <th>question1</th>\n",
       "      <th>question2</th>\n",
       "    </tr>\n",
       "  </thead>\n",
       "  <tbody>\n",
       "    <tr>\n",
       "      <th>100012</th>\n",
       "      <td>curiosity to desire: Was Cleopatra highly imag...</td>\n",
       "      <td>Was Cleopatra highly image-conscious and willi...</td>\n",
       "    </tr>\n",
       "    <tr>\n",
       "      <th>100022</th>\n",
       "      <td>love to curiosity: Can parents love their adop...</td>\n",
       "      <td>Can you ever love your adopted child as much a...</td>\n",
       "    </tr>\n",
       "    <tr>\n",
       "      <th>100037</th>\n",
       "      <td>curiosity to love: What is the difference betw...</td>\n",
       "      <td>What is the difference between depression and ...</td>\n",
       "    </tr>\n",
       "    <tr>\n",
       "      <th>100066</th>\n",
       "      <td>curiosity to confusion: How do you build a com...</td>\n",
       "      <td>How do you build a company that profits from d...</td>\n",
       "    </tr>\n",
       "    <tr>\n",
       "      <th>100088</th>\n",
       "      <td>curiosity to embarrassment: What are the most ...</td>\n",
       "      <td>What's the most awkward/embarrassing situation...</td>\n",
       "    </tr>\n",
       "    <tr>\n",
       "      <th>...</th>\n",
       "      <td>...</td>\n",
       "      <td>...</td>\n",
       "    </tr>\n",
       "    <tr>\n",
       "      <th>149933</th>\n",
       "      <td>curiosity to admiration: How can I increase my...</td>\n",
       "      <td>How can I increase my presence of mind?</td>\n",
       "    </tr>\n",
       "    <tr>\n",
       "      <th>149953</th>\n",
       "      <td>anger to curiosity: Why doesn't India dare to ...</td>\n",
       "      <td>Why doesn't India dare to invade Pakistan?</td>\n",
       "    </tr>\n",
       "    <tr>\n",
       "      <th>149958</th>\n",
       "      <td>confusion to curiosity: Doubt on hair removal....</td>\n",
       "      <td>What is the history of hair removal?</td>\n",
       "    </tr>\n",
       "    <tr>\n",
       "      <th>149963</th>\n",
       "      <td>curiosity to confusion: What happens to your F...</td>\n",
       "      <td>What happens to your FICO score when you add a...</td>\n",
       "    </tr>\n",
       "    <tr>\n",
       "      <th>149996</th>\n",
       "      <td>admiration to curiosity: What's the best decis...</td>\n",
       "      <td>What is the best decision you made in your life?</td>\n",
       "    </tr>\n",
       "  </tbody>\n",
       "</table>\n",
       "<p>2237 rows × 2 columns</p>\n",
       "</div>"
      ],
      "text/plain": [
       "                                                question1  \\\n",
       "100012  curiosity to desire: Was Cleopatra highly imag...   \n",
       "100022  love to curiosity: Can parents love their adop...   \n",
       "100037  curiosity to love: What is the difference betw...   \n",
       "100066  curiosity to confusion: How do you build a com...   \n",
       "100088  curiosity to embarrassment: What are the most ...   \n",
       "...                                                   ...   \n",
       "149933  curiosity to admiration: How can I increase my...   \n",
       "149953  anger to curiosity: Why doesn't India dare to ...   \n",
       "149958  confusion to curiosity: Doubt on hair removal....   \n",
       "149963  curiosity to confusion: What happens to your F...   \n",
       "149996  admiration to curiosity: What's the best decis...   \n",
       "\n",
       "                                                question2  \n",
       "100012  Was Cleopatra highly image-conscious and willi...  \n",
       "100022  Can you ever love your adopted child as much a...  \n",
       "100037  What is the difference between depression and ...  \n",
       "100066  How do you build a company that profits from d...  \n",
       "100088  What's the most awkward/embarrassing situation...  \n",
       "...                                                   ...  \n",
       "149933            How can I increase my presence of mind?  \n",
       "149953         Why doesn't India dare to invade Pakistan?  \n",
       "149958               What is the history of hair removal?  \n",
       "149963  What happens to your FICO score when you add a...  \n",
       "149996   What is the best decision you made in your life?  \n",
       "\n",
       "[2237 rows x 2 columns]"
      ]
     },
     "execution_count": 8,
     "metadata": {},
     "output_type": "execute_result"
    }
   ],
   "source": [
    "df"
   ]
  },
  {
   "cell_type": "code",
   "execution_count": null,
   "metadata": {},
   "outputs": [],
   "source": []
  }
 ],
 "metadata": {
  "kernelspec": {
   "display_name": "Python 3",
   "language": "python",
   "name": "python3"
  },
  "language_info": {
   "codemirror_mode": {
    "name": "ipython",
    "version": 3
   },
   "file_extension": ".py",
   "mimetype": "text/x-python",
   "name": "python",
   "nbconvert_exporter": "python",
   "pygments_lexer": "ipython3",
   "version": "3.11.5"
  }
 },
 "nbformat": 4,
 "nbformat_minor": 2
}
